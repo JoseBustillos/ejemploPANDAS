{
  "nbformat": 4,
  "nbformat_minor": 0,
  "metadata": {
    "colab": {
      "name": "PANDAS",
      "provenance": [],
      "collapsed_sections": [],
      "include_colab_link": true
    },
    "kernelspec": {
      "name": "python3",
      "display_name": "Python 3"
    }
  },
  "cells": [
    {
      "cell_type": "markdown",
      "metadata": {
        "id": "view-in-github",
        "colab_type": "text"
      },
      "source": [
        "<a href=\"https://colab.research.google.com/github/JoseGuarnizo/ejemploPANDAS/blob/master/PANDAS.ipynb\" target=\"_parent\"><img src=\"https://colab.research.google.com/assets/colab-badge.svg\" alt=\"Open In Colab\"/></a>"
      ]
    },
    {
      "cell_type": "code",
      "metadata": {
        "id": "4feUD1p0fzqv",
        "colab_type": "code",
        "colab": {}
      },
      "source": [
        "import pandas as pd \n",
        "import numpy as np\n",
        "import os\n",
        "import csv\n",
        "import io\n",
        "import json\n",
        "import ast\n",
        "import datetime as dt\n",
        "from pandas.io.json import json_normalize \n",
        "from pandas import Series, DataFrame\n",
        "from ast import literal_eval"
      ],
      "execution_count": 0,
      "outputs": []
    },
    {
      "cell_type": "code",
      "metadata": {
        "id": "8DpH7IU6zdEl",
        "colab_type": "code",
        "cellView": "code",
        "colab": {}
      },
      "source": [
        "#Cargar data desde la maquina local a colab\n",
        "from google.colab import files\n",
        "\n",
        "carga = files.upload()"
      ],
      "execution_count": 0,
      "outputs": []
    },
    {
      "cell_type": "code",
      "metadata": {
        "id": "dRWrSz_R1UVV",
        "colab_type": "code",
        "cellView": "code",
        "colab": {}
      },
      "source": [
        "#Proceso de Extracción\n",
        "\n",
        "#Carga data en una variable\n",
        "carga = pd.read_csv('df.csv', names='uno')"
      ],
      "execution_count": 0,
      "outputs": []
    },
    {
      "cell_type": "code",
      "metadata": {
        "id": "hf-4G8xp5jCM",
        "colab_type": "code",
        "colab": {}
      },
      "source": [
        "#convertir en list y despues en json\n",
        "data2 = list(carga['u'])\n",
        "da = []\n",
        "for i in range(0,len(data2)):\n",
        "    d = data2[i].split('.gz:')\n",
        "    da.append(json.loads((d[1])))"
      ],
      "execution_count": 0,
      "outputs": []
    },
    {
      "cell_type": "code",
      "metadata": {
        "id": "m6G_o5-F5nrH",
        "colab_type": "code",
        "colab": {}
      },
      "source": [
        "#Construcción DataFrame\n",
        "new_data = pd.DataFrame(da)\n",
        "new_data"
      ],
      "execution_count": 0,
      "outputs": []
    },
    {
      "cell_type": "code",
      "metadata": {
        "id": "dnpyxIlu8OCQ",
        "colab_type": "code",
        "colab": {}
      },
      "source": [
        "#Información de todo el DataFrame\n",
        "new_data.columns\n",
        "new_data.shape\n",
        "new_data.dtypes"
      ],
      "execution_count": 0,
      "outputs": []
    },
    {
      "cell_type": "code",
      "metadata": {
        "id": "ogoPKyLOsXz9",
        "colab_type": "code",
        "colab": {}
      },
      "source": [
        "#Verificación de tipo de datos por columna\n",
        "new_data['event_type'].head()"
      ],
      "execution_count": 0,
      "outputs": []
    },
    {
      "cell_type": "code",
      "metadata": {
        "id": "EgNXeyncuNNC",
        "colab_type": "code",
        "colab": {}
      },
      "source": [
        "#Proceso de Transformación\n",
        "#Eliminar columnas que no son necesarias\n",
        "new_infor = new_data.drop(['accept_language', 'agent', 'page',\n",
        "                           'session', 'event_type'], axis=1)"
      ],
      "execution_count": 0,
      "outputs": []
    },
    {
      "cell_type": "code",
      "metadata": {
        "id": "_YND2FKivfc2",
        "colab_type": "code",
        "colab": {}
      },
      "source": [
        "#Verificar nuevamente la data\n",
        "new_infor.info()"
      ],
      "execution_count": 0,
      "outputs": []
    },
    {
      "cell_type": "code",
      "metadata": {
        "id": "K-9HcQr6wFcf",
        "colab_type": "code",
        "colab": {}
      },
      "source": [
        "#Proceso Transformacion\n",
        "\n",
        "#Dividir columna context\n",
        "\n",
        "contextData = new_infor['context'].values.tolist()\n",
        "\n",
        "new_contextData = pd.DataFrame(contextData, columns= ['course_user_tags',\n",
        "                                                      'course_id', 'path',\n",
        "                                                      'org_id', 'user_id'])\n",
        "\n",
        "new_contextInfo = new_contextData.drop(['course_user_tags', 'course_id',\n",
        "                                        'path'], axis=1)\n",
        "new_contextInfo"
      ],
      "execution_count": 0,
      "outputs": []
    },
    {
      "cell_type": "code",
      "metadata": {
        "id": "tr3RaG7XwFwH",
        "colab_type": "code",
        "colab": {}
      },
      "source": [
        "#Proceso de Transformación\n",
        "\n",
        "#Dividir columna event\n",
        "eventData = new_infor['event'].values.tolist()\n",
        "nuevoEvent = []\n",
        "for i in range(0, len(eventData)):\n",
        "  d = json.dumps(eventData[i])\n",
        "  nuevoEvent.append(json.loads(d))\n",
        "\n",
        "nuevoEvent"
      ],
      "execution_count": 0,
      "outputs": []
    },
    {
      "cell_type": "code",
      "metadata": {
        "id": "QS1vd2CowF6p",
        "colab_type": "code",
        "colab": {}
      },
      "source": [
        "a = pd.read_json(nuevoEvent)"
      ],
      "execution_count": 0,
      "outputs": []
    }
  ]
}